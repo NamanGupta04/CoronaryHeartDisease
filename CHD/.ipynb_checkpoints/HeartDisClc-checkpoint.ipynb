{
 "cells": [
  {
   "cell_type": "code",
   "execution_count": 1,
   "id": "74712bdf",
   "metadata": {},
   "outputs": [],
   "source": [
    "import numpy as np\n",
    "import pandas as pd\n",
    "df=pd.read_csv(\"CAD.csv\")"
   ]
  },
  {
   "cell_type": "code",
   "execution_count": 2,
   "id": "d8dbdd84",
   "metadata": {},
   "outputs": [
    {
     "data": {
      "text/html": [
       "<div>\n",
       "<style scoped>\n",
       "    .dataframe tbody tr th:only-of-type {\n",
       "        vertical-align: middle;\n",
       "    }\n",
       "\n",
       "    .dataframe tbody tr th {\n",
       "        vertical-align: top;\n",
       "    }\n",
       "\n",
       "    .dataframe thead th {\n",
       "        text-align: right;\n",
       "    }\n",
       "</style>\n",
       "<table border=\"1\" class=\"dataframe\">\n",
       "  <thead>\n",
       "    <tr style=\"text-align: right;\">\n",
       "      <th></th>\n",
       "      <th>Age</th>\n",
       "      <th>Weight</th>\n",
       "      <th>Length</th>\n",
       "      <th>Sex</th>\n",
       "      <th>BMI</th>\n",
       "      <th>DM</th>\n",
       "      <th>HTN</th>\n",
       "      <th>Current Smoker</th>\n",
       "      <th>EX-Smoker</th>\n",
       "      <th>FH</th>\n",
       "      <th>...</th>\n",
       "      <th>K</th>\n",
       "      <th>Na</th>\n",
       "      <th>WBC</th>\n",
       "      <th>Lymph</th>\n",
       "      <th>Neut</th>\n",
       "      <th>PLT</th>\n",
       "      <th>EF-TTE</th>\n",
       "      <th>Region RWMA</th>\n",
       "      <th>VHD</th>\n",
       "      <th>Cath</th>\n",
       "    </tr>\n",
       "  </thead>\n",
       "  <tbody>\n",
       "    <tr>\n",
       "      <th>0</th>\n",
       "      <td>53</td>\n",
       "      <td>90</td>\n",
       "      <td>175</td>\n",
       "      <td>Male</td>\n",
       "      <td>29.387755</td>\n",
       "      <td>0</td>\n",
       "      <td>1</td>\n",
       "      <td>1</td>\n",
       "      <td>0</td>\n",
       "      <td>0</td>\n",
       "      <td>...</td>\n",
       "      <td>4.7</td>\n",
       "      <td>141</td>\n",
       "      <td>5700</td>\n",
       "      <td>39</td>\n",
       "      <td>52</td>\n",
       "      <td>261</td>\n",
       "      <td>50</td>\n",
       "      <td>0</td>\n",
       "      <td>N</td>\n",
       "      <td>Cad</td>\n",
       "    </tr>\n",
       "    <tr>\n",
       "      <th>1</th>\n",
       "      <td>67</td>\n",
       "      <td>70</td>\n",
       "      <td>157</td>\n",
       "      <td>Fmale</td>\n",
       "      <td>28.398718</td>\n",
       "      <td>0</td>\n",
       "      <td>1</td>\n",
       "      <td>0</td>\n",
       "      <td>0</td>\n",
       "      <td>0</td>\n",
       "      <td>...</td>\n",
       "      <td>4.7</td>\n",
       "      <td>156</td>\n",
       "      <td>7700</td>\n",
       "      <td>38</td>\n",
       "      <td>55</td>\n",
       "      <td>165</td>\n",
       "      <td>40</td>\n",
       "      <td>4</td>\n",
       "      <td>N</td>\n",
       "      <td>Cad</td>\n",
       "    </tr>\n",
       "    <tr>\n",
       "      <th>2</th>\n",
       "      <td>54</td>\n",
       "      <td>54</td>\n",
       "      <td>164</td>\n",
       "      <td>Male</td>\n",
       "      <td>20.077335</td>\n",
       "      <td>0</td>\n",
       "      <td>0</td>\n",
       "      <td>1</td>\n",
       "      <td>0</td>\n",
       "      <td>0</td>\n",
       "      <td>...</td>\n",
       "      <td>4.7</td>\n",
       "      <td>139</td>\n",
       "      <td>7400</td>\n",
       "      <td>38</td>\n",
       "      <td>60</td>\n",
       "      <td>230</td>\n",
       "      <td>40</td>\n",
       "      <td>2</td>\n",
       "      <td>mild</td>\n",
       "      <td>Cad</td>\n",
       "    </tr>\n",
       "    <tr>\n",
       "      <th>3</th>\n",
       "      <td>66</td>\n",
       "      <td>67</td>\n",
       "      <td>158</td>\n",
       "      <td>Fmale</td>\n",
       "      <td>26.838648</td>\n",
       "      <td>0</td>\n",
       "      <td>1</td>\n",
       "      <td>0</td>\n",
       "      <td>0</td>\n",
       "      <td>0</td>\n",
       "      <td>...</td>\n",
       "      <td>4.4</td>\n",
       "      <td>142</td>\n",
       "      <td>13000</td>\n",
       "      <td>18</td>\n",
       "      <td>72</td>\n",
       "      <td>742</td>\n",
       "      <td>55</td>\n",
       "      <td>0</td>\n",
       "      <td>Severe</td>\n",
       "      <td>Normal</td>\n",
       "    </tr>\n",
       "    <tr>\n",
       "      <th>4</th>\n",
       "      <td>50</td>\n",
       "      <td>87</td>\n",
       "      <td>153</td>\n",
       "      <td>Fmale</td>\n",
       "      <td>37.165193</td>\n",
       "      <td>0</td>\n",
       "      <td>1</td>\n",
       "      <td>0</td>\n",
       "      <td>0</td>\n",
       "      <td>0</td>\n",
       "      <td>...</td>\n",
       "      <td>4.0</td>\n",
       "      <td>140</td>\n",
       "      <td>9200</td>\n",
       "      <td>55</td>\n",
       "      <td>39</td>\n",
       "      <td>274</td>\n",
       "      <td>50</td>\n",
       "      <td>0</td>\n",
       "      <td>Severe</td>\n",
       "      <td>Normal</td>\n",
       "    </tr>\n",
       "  </tbody>\n",
       "</table>\n",
       "<p>5 rows × 55 columns</p>\n",
       "</div>"
      ],
      "text/plain": [
       "   Age  Weight  Length    Sex        BMI  DM  HTN  Current Smoker  EX-Smoker  \\\n",
       "0   53      90     175   Male  29.387755   0    1               1          0   \n",
       "1   67      70     157  Fmale  28.398718   0    1               0          0   \n",
       "2   54      54     164   Male  20.077335   0    0               1          0   \n",
       "3   66      67     158  Fmale  26.838648   0    1               0          0   \n",
       "4   50      87     153  Fmale  37.165193   0    1               0          0   \n",
       "\n",
       "   FH  ...    K   Na    WBC Lymph Neut  PLT EF-TTE  Region RWMA     VHD  \\\n",
       "0   0  ...  4.7  141   5700    39   52  261     50            0       N   \n",
       "1   0  ...  4.7  156   7700    38   55  165     40            4       N   \n",
       "2   0  ...  4.7  139   7400    38   60  230     40            2    mild   \n",
       "3   0  ...  4.4  142  13000    18   72  742     55            0  Severe   \n",
       "4   0  ...  4.0  140   9200    55   39  274     50            0  Severe   \n",
       "\n",
       "     Cath  \n",
       "0     Cad  \n",
       "1     Cad  \n",
       "2     Cad  \n",
       "3  Normal  \n",
       "4  Normal  \n",
       "\n",
       "[5 rows x 55 columns]"
      ]
     },
     "execution_count": 2,
     "metadata": {},
     "output_type": "execute_result"
    }
   ],
   "source": [
    "df.head()"
   ]
  },
  {
   "cell_type": "code",
   "execution_count": 3,
   "id": "443b1f64",
   "metadata": {},
   "outputs": [
    {
     "data": {
      "text/html": [
       "<div>\n",
       "<style scoped>\n",
       "    .dataframe tbody tr th:only-of-type {\n",
       "        vertical-align: middle;\n",
       "    }\n",
       "\n",
       "    .dataframe tbody tr th {\n",
       "        vertical-align: top;\n",
       "    }\n",
       "\n",
       "    .dataframe thead th {\n",
       "        text-align: right;\n",
       "    }\n",
       "</style>\n",
       "<table border=\"1\" class=\"dataframe\">\n",
       "  <thead>\n",
       "    <tr style=\"text-align: right;\">\n",
       "      <th></th>\n",
       "      <th>Age</th>\n",
       "      <th>Weight</th>\n",
       "      <th>Length</th>\n",
       "      <th>Sex</th>\n",
       "      <th>BMI</th>\n",
       "      <th>DM</th>\n",
       "      <th>HTN</th>\n",
       "      <th>Current Smoker</th>\n",
       "      <th>EX-Smoker</th>\n",
       "      <th>FH</th>\n",
       "      <th>...</th>\n",
       "      <th>K</th>\n",
       "      <th>Na</th>\n",
       "      <th>WBC</th>\n",
       "      <th>Lymph</th>\n",
       "      <th>Neut</th>\n",
       "      <th>PLT</th>\n",
       "      <th>EF-TTE</th>\n",
       "      <th>Region RWMA</th>\n",
       "      <th>VHD</th>\n",
       "      <th>Cath</th>\n",
       "    </tr>\n",
       "  </thead>\n",
       "  <tbody>\n",
       "    <tr>\n",
       "      <th>298</th>\n",
       "      <td>58</td>\n",
       "      <td>84</td>\n",
       "      <td>168</td>\n",
       "      <td>Male</td>\n",
       "      <td>29.761905</td>\n",
       "      <td>0</td>\n",
       "      <td>0</td>\n",
       "      <td>0</td>\n",
       "      <td>0</td>\n",
       "      <td>0</td>\n",
       "      <td>...</td>\n",
       "      <td>4.8</td>\n",
       "      <td>146</td>\n",
       "      <td>8500</td>\n",
       "      <td>34</td>\n",
       "      <td>58</td>\n",
       "      <td>251</td>\n",
       "      <td>45</td>\n",
       "      <td>0</td>\n",
       "      <td>N</td>\n",
       "      <td>Cad</td>\n",
       "    </tr>\n",
       "    <tr>\n",
       "      <th>299</th>\n",
       "      <td>55</td>\n",
       "      <td>64</td>\n",
       "      <td>152</td>\n",
       "      <td>Fmale</td>\n",
       "      <td>27.700831</td>\n",
       "      <td>0</td>\n",
       "      <td>0</td>\n",
       "      <td>0</td>\n",
       "      <td>0</td>\n",
       "      <td>0</td>\n",
       "      <td>...</td>\n",
       "      <td>4.0</td>\n",
       "      <td>139</td>\n",
       "      <td>11400</td>\n",
       "      <td>16</td>\n",
       "      <td>80</td>\n",
       "      <td>377</td>\n",
       "      <td>40</td>\n",
       "      <td>0</td>\n",
       "      <td>mild</td>\n",
       "      <td>Normal</td>\n",
       "    </tr>\n",
       "    <tr>\n",
       "      <th>300</th>\n",
       "      <td>48</td>\n",
       "      <td>77</td>\n",
       "      <td>160</td>\n",
       "      <td>Fmale</td>\n",
       "      <td>30.078125</td>\n",
       "      <td>0</td>\n",
       "      <td>1</td>\n",
       "      <td>0</td>\n",
       "      <td>0</td>\n",
       "      <td>1</td>\n",
       "      <td>...</td>\n",
       "      <td>4.0</td>\n",
       "      <td>140</td>\n",
       "      <td>9000</td>\n",
       "      <td>35</td>\n",
       "      <td>55</td>\n",
       "      <td>279</td>\n",
       "      <td>55</td>\n",
       "      <td>0</td>\n",
       "      <td>N</td>\n",
       "      <td>Normal</td>\n",
       "    </tr>\n",
       "    <tr>\n",
       "      <th>301</th>\n",
       "      <td>57</td>\n",
       "      <td>90</td>\n",
       "      <td>159</td>\n",
       "      <td>Fmale</td>\n",
       "      <td>35.599858</td>\n",
       "      <td>1</td>\n",
       "      <td>0</td>\n",
       "      <td>0</td>\n",
       "      <td>0</td>\n",
       "      <td>0</td>\n",
       "      <td>...</td>\n",
       "      <td>3.8</td>\n",
       "      <td>141</td>\n",
       "      <td>3800</td>\n",
       "      <td>48</td>\n",
       "      <td>40</td>\n",
       "      <td>208</td>\n",
       "      <td>55</td>\n",
       "      <td>0</td>\n",
       "      <td>N</td>\n",
       "      <td>Normal</td>\n",
       "    </tr>\n",
       "    <tr>\n",
       "      <th>302</th>\n",
       "      <td>56</td>\n",
       "      <td>85</td>\n",
       "      <td>170</td>\n",
       "      <td>Fmale</td>\n",
       "      <td>29.411765</td>\n",
       "      <td>0</td>\n",
       "      <td>1</td>\n",
       "      <td>1</td>\n",
       "      <td>0</td>\n",
       "      <td>0</td>\n",
       "      <td>...</td>\n",
       "      <td>4.4</td>\n",
       "      <td>147</td>\n",
       "      <td>6000</td>\n",
       "      <td>32</td>\n",
       "      <td>55</td>\n",
       "      <td>302</td>\n",
       "      <td>55</td>\n",
       "      <td>0</td>\n",
       "      <td>N</td>\n",
       "      <td>Cad</td>\n",
       "    </tr>\n",
       "  </tbody>\n",
       "</table>\n",
       "<p>5 rows × 55 columns</p>\n",
       "</div>"
      ],
      "text/plain": [
       "     Age  Weight  Length    Sex        BMI  DM  HTN  Current Smoker  \\\n",
       "298   58      84     168   Male  29.761905   0    0               0   \n",
       "299   55      64     152  Fmale  27.700831   0    0               0   \n",
       "300   48      77     160  Fmale  30.078125   0    1               0   \n",
       "301   57      90     159  Fmale  35.599858   1    0               0   \n",
       "302   56      85     170  Fmale  29.411765   0    1               1   \n",
       "\n",
       "     EX-Smoker  FH  ...    K   Na    WBC Lymph Neut  PLT EF-TTE  Region RWMA  \\\n",
       "298          0   0  ...  4.8  146   8500    34   58  251     45            0   \n",
       "299          0   0  ...  4.0  139  11400    16   80  377     40            0   \n",
       "300          0   1  ...  4.0  140   9000    35   55  279     55            0   \n",
       "301          0   0  ...  3.8  141   3800    48   40  208     55            0   \n",
       "302          0   0  ...  4.4  147   6000    32   55  302     55            0   \n",
       "\n",
       "      VHD    Cath  \n",
       "298     N     Cad  \n",
       "299  mild  Normal  \n",
       "300     N  Normal  \n",
       "301     N  Normal  \n",
       "302     N     Cad  \n",
       "\n",
       "[5 rows x 55 columns]"
      ]
     },
     "execution_count": 3,
     "metadata": {},
     "output_type": "execute_result"
    }
   ],
   "source": [
    "df.tail()"
   ]
  },
  {
   "cell_type": "code",
   "execution_count": 4,
   "id": "287ed658",
   "metadata": {},
   "outputs": [
    {
     "data": {
      "text/plain": [
       "(303, 55)"
      ]
     },
     "execution_count": 4,
     "metadata": {},
     "output_type": "execute_result"
    }
   ],
   "source": [
    "df.shape"
   ]
  },
  {
   "cell_type": "code",
   "execution_count": 5,
   "id": "6652b4ff",
   "metadata": {},
   "outputs": [
    {
     "ename": "KeyError",
     "evalue": "'target'",
     "output_type": "error",
     "traceback": [
      "\u001b[1;31m---------------------------------------------------------------------------\u001b[0m",
      "\u001b[1;31mKeyError\u001b[0m                                  Traceback (most recent call last)",
      "File \u001b[1;32mC:\\Python311\\Lib\\site-packages\\pandas\\core\\indexes\\base.py:3802\u001b[0m, in \u001b[0;36mIndex.get_loc\u001b[1;34m(self, key, method, tolerance)\u001b[0m\n\u001b[0;32m   3801\u001b[0m \u001b[38;5;28;01mtry\u001b[39;00m:\n\u001b[1;32m-> 3802\u001b[0m     \u001b[38;5;28;01mreturn\u001b[39;00m \u001b[38;5;28;43mself\u001b[39;49m\u001b[38;5;241;43m.\u001b[39;49m\u001b[43m_engine\u001b[49m\u001b[38;5;241;43m.\u001b[39;49m\u001b[43mget_loc\u001b[49m\u001b[43m(\u001b[49m\u001b[43mcasted_key\u001b[49m\u001b[43m)\u001b[49m\n\u001b[0;32m   3803\u001b[0m \u001b[38;5;28;01mexcept\u001b[39;00m \u001b[38;5;167;01mKeyError\u001b[39;00m \u001b[38;5;28;01mas\u001b[39;00m err:\n",
      "File \u001b[1;32mC:\\Python311\\Lib\\site-packages\\pandas\\_libs\\index.pyx:138\u001b[0m, in \u001b[0;36mpandas._libs.index.IndexEngine.get_loc\u001b[1;34m()\u001b[0m\n",
      "File \u001b[1;32mC:\\Python311\\Lib\\site-packages\\pandas\\_libs\\index.pyx:165\u001b[0m, in \u001b[0;36mpandas._libs.index.IndexEngine.get_loc\u001b[1;34m()\u001b[0m\n",
      "File \u001b[1;32mpandas\\_libs\\hashtable_class_helper.pxi:5745\u001b[0m, in \u001b[0;36mpandas._libs.hashtable.PyObjectHashTable.get_item\u001b[1;34m()\u001b[0m\n",
      "File \u001b[1;32mpandas\\_libs\\hashtable_class_helper.pxi:5753\u001b[0m, in \u001b[0;36mpandas._libs.hashtable.PyObjectHashTable.get_item\u001b[1;34m()\u001b[0m\n",
      "\u001b[1;31mKeyError\u001b[0m: 'target'",
      "\nThe above exception was the direct cause of the following exception:\n",
      "\u001b[1;31mKeyError\u001b[0m                                  Traceback (most recent call last)",
      "Cell \u001b[1;32mIn[5], line 1\u001b[0m\n\u001b[1;32m----> 1\u001b[0m target\u001b[38;5;241m=\u001b[39m\u001b[43mdf\u001b[49m\u001b[43m[\u001b[49m\u001b[38;5;124;43m'\u001b[39;49m\u001b[38;5;124;43mtarget\u001b[39;49m\u001b[38;5;124;43m'\u001b[39;49m\u001b[43m]\u001b[49m\n",
      "File \u001b[1;32mC:\\Python311\\Lib\\site-packages\\pandas\\core\\frame.py:3807\u001b[0m, in \u001b[0;36mDataFrame.__getitem__\u001b[1;34m(self, key)\u001b[0m\n\u001b[0;32m   3805\u001b[0m \u001b[38;5;28;01mif\u001b[39;00m \u001b[38;5;28mself\u001b[39m\u001b[38;5;241m.\u001b[39mcolumns\u001b[38;5;241m.\u001b[39mnlevels \u001b[38;5;241m>\u001b[39m \u001b[38;5;241m1\u001b[39m:\n\u001b[0;32m   3806\u001b[0m     \u001b[38;5;28;01mreturn\u001b[39;00m \u001b[38;5;28mself\u001b[39m\u001b[38;5;241m.\u001b[39m_getitem_multilevel(key)\n\u001b[1;32m-> 3807\u001b[0m indexer \u001b[38;5;241m=\u001b[39m \u001b[38;5;28;43mself\u001b[39;49m\u001b[38;5;241;43m.\u001b[39;49m\u001b[43mcolumns\u001b[49m\u001b[38;5;241;43m.\u001b[39;49m\u001b[43mget_loc\u001b[49m\u001b[43m(\u001b[49m\u001b[43mkey\u001b[49m\u001b[43m)\u001b[49m\n\u001b[0;32m   3808\u001b[0m \u001b[38;5;28;01mif\u001b[39;00m is_integer(indexer):\n\u001b[0;32m   3809\u001b[0m     indexer \u001b[38;5;241m=\u001b[39m [indexer]\n",
      "File \u001b[1;32mC:\\Python311\\Lib\\site-packages\\pandas\\core\\indexes\\base.py:3804\u001b[0m, in \u001b[0;36mIndex.get_loc\u001b[1;34m(self, key, method, tolerance)\u001b[0m\n\u001b[0;32m   3802\u001b[0m     \u001b[38;5;28;01mreturn\u001b[39;00m \u001b[38;5;28mself\u001b[39m\u001b[38;5;241m.\u001b[39m_engine\u001b[38;5;241m.\u001b[39mget_loc(casted_key)\n\u001b[0;32m   3803\u001b[0m \u001b[38;5;28;01mexcept\u001b[39;00m \u001b[38;5;167;01mKeyError\u001b[39;00m \u001b[38;5;28;01mas\u001b[39;00m err:\n\u001b[1;32m-> 3804\u001b[0m     \u001b[38;5;28;01mraise\u001b[39;00m \u001b[38;5;167;01mKeyError\u001b[39;00m(key) \u001b[38;5;28;01mfrom\u001b[39;00m \u001b[38;5;21;01merr\u001b[39;00m\n\u001b[0;32m   3805\u001b[0m \u001b[38;5;28;01mexcept\u001b[39;00m \u001b[38;5;167;01mTypeError\u001b[39;00m:\n\u001b[0;32m   3806\u001b[0m     \u001b[38;5;66;03m# If we have a listlike key, _check_indexing_error will raise\u001b[39;00m\n\u001b[0;32m   3807\u001b[0m     \u001b[38;5;66;03m#  InvalidIndexError. Otherwise we fall through and re-raise\u001b[39;00m\n\u001b[0;32m   3808\u001b[0m     \u001b[38;5;66;03m#  the TypeError.\u001b[39;00m\n\u001b[0;32m   3809\u001b[0m     \u001b[38;5;28mself\u001b[39m\u001b[38;5;241m.\u001b[39m_check_indexing_error(key)\n",
      "\u001b[1;31mKeyError\u001b[0m: 'target'"
     ]
    }
   ],
   "source": [
    "target=df['target']"
   ]
  },
  {
   "cell_type": "code",
   "execution_count": null,
   "id": "ade637c0",
   "metadata": {},
   "outputs": [],
   "source": [
    "target.head()"
   ]
  },
  {
   "cell_type": "code",
   "execution_count": null,
   "id": "e325a4ea",
   "metadata": {},
   "outputs": [],
   "source": [
    "target"
   ]
  },
  {
   "cell_type": "code",
   "execution_count": null,
   "id": "8f3fbda7",
   "metadata": {},
   "outputs": [],
   "source": [
    "target.value_counts()"
   ]
  },
  {
   "cell_type": "code",
   "execution_count": null,
   "id": "4f18349a",
   "metadata": {},
   "outputs": [],
   "source": [
    "features=df[['age', 'sex','cp','trestbps','chol','fbs','restecg','thalach','exang','oldpeak','slope','ca','thal','target'\n",
    "]]"
   ]
  },
  {
   "cell_type": "code",
   "execution_count": null,
   "id": "d4242d76",
   "metadata": {},
   "outputs": [],
   "source": [
    "features.head()"
   ]
  },
  {
   "cell_type": "code",
   "execution_count": null,
   "id": "a0dd4d25",
   "metadata": {},
   "outputs": [],
   "source": [
    "from sklearn.model_selection import train_test_split\n",
    "X_train, X_test, y_train, y_test = train_test_split(features, target, test_size = 0.2, random_state = 0)"
   ]
  },
  {
   "cell_type": "code",
   "execution_count": null,
   "id": "ea1b9f87",
   "metadata": {},
   "outputs": [],
   "source": [
    "X_train.shape"
   ]
  },
  {
   "cell_type": "code",
   "execution_count": null,
   "id": "bfb9ddf1",
   "metadata": {},
   "outputs": [],
   "source": [
    "X_test.shape"
   ]
  },
  {
   "cell_type": "code",
   "execution_count": null,
   "id": "bb4a9545",
   "metadata": {},
   "outputs": [],
   "source": [
    "y_test.value_counts()"
   ]
  },
  {
   "cell_type": "code",
   "execution_count": null,
   "id": "3dc61847",
   "metadata": {},
   "outputs": [],
   "source": [
    " y_train.label"
   ]
  },
  {
   "cell_type": "markdown",
   "id": "940a8780",
   "metadata": {},
   "source": [
    "# 1. Logistic Regression"
   ]
  },
  {
   "cell_type": "code",
   "execution_count": null,
   "id": "462c923b",
   "metadata": {},
   "outputs": [],
   "source": [
    "# Importing the LogisticRegression class from the linear_model module in sklearn\n",
    "from sklearn.linear_model import LogisticRegression\n",
    "# create object of the above classifier\n",
    "clfy = LogisticRegression(random_state = 0) # pass seed to ensure results are reproducible\n",
    "clfy.fit(X_train, y_train) # calls fit method from the classifier object to fit the data to our model"
   ]
  },
  {
   "cell_type": "code",
   "execution_count": null,
   "id": "9499bfa3",
   "metadata": {},
   "outputs": [],
   "source": [
    "# Importing the confusion_matrix and accuracy_score class from the metrics module in sklearn\n",
    "from sklearn.metrics import confusion_matrix, accuracy_score\n",
    "y_pred = clfy.predict(X_test) # calls a predict method from the classfier object to target variable of the X_test\n",
    "# creating a confussion matrix\n",
    "cm = confusion_matrix(y_test, y_pred)\n",
    "print(cm)\n",
    "# model score\n",
    "accuracy_score(y_test, y_pred)"
   ]
  },
  {
   "cell_type": "code",
   "execution_count": null,
   "id": "fd0b5f58",
   "metadata": {},
   "outputs": [],
   "source": [
    "from sklearn.metrics import precision_recall_fscore_support\n",
    "precision_recall_fscore_support(y_test, y_pred, average='weighted')"
   ]
  },
  {
   "cell_type": "markdown",
   "id": "0c9abc69",
   "metadata": {},
   "source": [
    "# 2. Decision Tree"
   ]
  },
  {
   "cell_type": "code",
   "execution_count": null,
   "id": "56947149",
   "metadata": {},
   "outputs": [],
   "source": [
    "#Import Random Forest Model\n",
    "from sklearn.tree import DecisionTreeClassifier\n",
    "\n",
    "#Create a Gaussian Classifier\n",
    "clf=DecisionTreeClassifier(criterion = \"gini\", random_state = 100,max_depth=3, min_samples_leaf=5)\n",
    "\n",
    "#Train the model using the training sets y_pred=clf.predict(X_test)\n",
    "clf.fit(X_train,y_train)\n",
    "\n",
    "y_pred=clf.predict(X_test)"
   ]
  },
  {
   "cell_type": "code",
   "execution_count": null,
   "id": "16557453",
   "metadata": {},
   "outputs": [],
   "source": [
    "# Importing the confusion_matrix and accuracy_score class from the metrics module in sklearn\n",
    "from sklearn.metrics import confusion_matrix, accuracy_score\n",
    "y_pred = clf.predict(X_test) # calls a predict method from the classfier object to target variable of the X_test\n",
    "# creating a confussion matrix\n",
    "cm = confusion_matrix(y_test, y_pred)\n",
    "print(cm)\n",
    "# model score\n",
    "accuracy_score(y_test, y_pred)"
   ]
  },
  {
   "cell_type": "code",
   "execution_count": null,
   "id": "d48cefa5",
   "metadata": {},
   "outputs": [],
   "source": [
    "from sklearn.metrics import precision_recall_fscore_support\n",
    "precision_recall_fscore_support(y_test, y_pred, average='weighted')"
   ]
  },
  {
   "cell_type": "code",
   "execution_count": null,
   "id": "b5b9a5df",
   "metadata": {},
   "outputs": [],
   "source": [
    "from sklearn.tree import DecisionTreeClassifier, plot_tree\n",
    "dt_clf = DecisionTreeClassifier(max_depth = 3, min_samples_leaf = 2)\n",
    "dt_clf.fit(X_train, y_train)\n",
    "\n",
    "# Predict on the test data and evaluate the model\n",
    "y_pred = dt_clf.predict(X_test)\n",
    "\n",
    "print(classification_report(y_pred, y_test))"
   ]
  },
  {
   "cell_type": "code",
   "execution_count": null,
   "id": "6f57def6",
   "metadata": {},
   "outputs": [],
   "source": [
    "fig = plt.figure(figsize=(25,20))\n",
    "_ = plot_tree(dt_clf,\n",
    "               \tfeature_names = feature_names,\n",
    "               \tclass_names = class_names,\n",
    "               \tfilled=True)"
   ]
  },
  {
   "cell_type": "markdown",
   "id": "72789e3f",
   "metadata": {},
   "source": [
    "# 3. Random Forest"
   ]
  },
  {
   "cell_type": "code",
   "execution_count": null,
   "id": "1d9ea6ca",
   "metadata": {},
   "outputs": [],
   "source": [
    "#Import Random Forest Model\n",
    "from sklearn.ensemble import RandomForestClassifier\n",
    "\n",
    "#Create a Gaussian Classifier\n",
    "rf_clf=RandomForestClassifier(n_estimators=1000)\n",
    "\n",
    "#Train the model using the training sets y_pred=clf.predict(X_test)\n",
    "rf_clf.fit(X_train,y_train)\n",
    "\n",
    "y_pred=rf_clf.predict(X_test)"
   ]
  },
  {
   "cell_type": "code",
   "execution_count": null,
   "id": "3c619348",
   "metadata": {},
   "outputs": [],
   "source": [
    "# Importing the confusion_matrix and accuracy_score class from the metrics module in sklearn\n",
    "from sklearn.metrics import confusion_matrix, accuracy_score\n",
    "y_pred = rf_clf.predict(X_test) # calls a predict method from the classfier object to target variable of the X_test\n",
    "# creating a confussion matrix\n",
    "cm = confusion_matrix(y_test, y_pred)\n",
    "print(cm)\n",
    "# model score\n",
    "accuracy_score(y_test, y_pred)"
   ]
  },
  {
   "cell_type": "code",
   "execution_count": null,
   "id": "f65ab7fc",
   "metadata": {},
   "outputs": [],
   "source": [
    "from sklearn.metrics import precision_recall_fscore_support\n",
    "precision_recall_fscore_support(y_test, y_pred, average='weighted')"
   ]
  },
  {
   "cell_type": "markdown",
   "id": "3d1bae59",
   "metadata": {},
   "source": [
    "# SHAP X-AI Model validation (Random Forest)"
   ]
  },
  {
   "cell_type": "code",
   "execution_count": null,
   "id": "17c126b5",
   "metadata": {},
   "outputs": [],
   "source": [
    "!pip install shap"
   ]
  },
  {
   "cell_type": "code",
   "execution_count": null,
   "id": "d6cd0e94",
   "metadata": {},
   "outputs": [],
   "source": [
    "import shap\n",
    "import matplotlib.pyplot as plt\n",
    "\n",
    "# load JS visualization code to notebook\n",
    "shap.initjs()\n",
    "\n",
    "# Create the explainer\n",
    "explainer = shap.TreeExplainer(rf_clf)\n",
    "\n",
    "shap_values = explainer.shap_values(X_test)"
   ]
  },
  {
   "cell_type": "code",
   "execution_count": null,
   "id": "8675a5b4",
   "metadata": {},
   "outputs": [],
   "source": [
    "print(\"Variable Importance Plot - Global Interpretation\")\n",
    "figure = plt.figure()\n",
    "shap.summary_plot(shap_values, X_test)"
   ]
  },
  {
   "cell_type": "code",
   "execution_count": null,
   "id": "3cc81f3d",
   "metadata": {},
   "outputs": [],
   "source": [
    "shap.summary_plot(shap_values[1], X_test)"
   ]
  },
  {
   "cell_type": "markdown",
   "id": "8df3dde9",
   "metadata": {},
   "source": [
    "# This code is using the SHAP (SHapley Additive exPlanations) library to create a summary plot of the feature importances for a machine learning model.\n",
    "• The shap_values variable contains the SHAP values for each feature in the test set, which were calculated using the shap.TreeExplainer method.\n",
    "• The [1] index specifies the class for which the summary plot will be generated (in the case of a binary classification problem, this would be the positive class).\n",
    "• The X_test variable contains the test set data, which is used to label the feature importances in the summary plot.\n",
    "• The shap.summary_plot method is then called with the SHAP values and test set data as inputs to generate the summary plot.\n",
    "• This plot shows the impact of each feature on the model's output, with features that have a positive impact shown in red and features that have a negative impact shown in blue.\n",
    "• The horizontal position of each feature's bar indicates the magnitude of its impact, with longer bars indicating greater importance.\n"
   ]
  },
  {
   "cell_type": "markdown",
   "id": "3150f7e8",
   "metadata": {},
   "source": [
    "# LIME "
   ]
  },
  {
   "cell_type": "code",
   "execution_count": null,
   "id": "87f2f94e",
   "metadata": {},
   "outputs": [],
   "source": [
    "pip install lime"
   ]
  },
  {
   "cell_type": "code",
   "execution_count": null,
   "id": "a7b4bd4f",
   "metadata": {},
   "outputs": [],
   "source": [
    "X_train.columns"
   ]
  },
  {
   "cell_type": "code",
   "execution_count": null,
   "id": "2ae16273",
   "metadata": {},
   "outputs": [],
   "source": [
    "# Import the LimeTabularExplainer module\n",
    "from lime.lime_tabular import LimeTabularExplainer\n",
    "\n"
   ]
  },
  {
   "cell_type": "code",
   "execution_count": null,
   "id": "acb049ce",
   "metadata": {},
   "outputs": [],
   "source": [
    "# Import the LimeTabularExplainer module\n",
    "from lime.lime_tabular import LimeTabularExplainer\n",
    "\n",
    "# Get the class names\n",
    "class_names = ['0', '1']\n",
    "\n",
    "# Get the feature names\n",
    "feature_names = list(X_train.columns)\n",
    "\n",
    "# Fit the Explainer on the training data set using the LimeTabularExplainer\n",
    "explainer = LimeTabularExplainer(X_train.values, feature_names =     \n",
    "                                 feature_names,\n",
    "                                 class_names = class_names, \n",
    "                                 mode = 'classification')\n",
    "\n"
   ]
  },
  {
   "cell_type": "code",
   "execution_count": null,
   "id": "25f779f8",
   "metadata": {},
   "outputs": [],
   "source": [
    "import numpy as np\n",
    "from lime.lime_tabular import LimeTabularExplainer\n",
    "from sklearn.ensemble import RandomForestClassifier\n",
    "from sklearn.model_selection import train_test_split\n",
    "\n",
    "# Generate a toy dataset\n",
    "np.random.seed(42)\n",
    "X = np.random.rand(100, 5)  # 100 samples, 5 features\n",
    "y = (X[:, 0] + X[:, 1] + X[:, 2] > 1.5).astype(int)  # Binary classification\n",
    "\n",
    "# Split the data into training and testing sets\n",
    "X_train, X_test, y_train, y_test = train_test_split(X, y, test_size=0.2, random_state=42)\n",
    "\n",
    "# Train a simple model (Random Forest in this case)\n",
    "model = RandomForestClassifier(n_estimators=100, random_state=42)\n",
    "model.fit(X_train, y_train)\n",
    "\n",
    "# Create a LimeTabularExplainer\n",
    "explainer = LimeTabularExplainer(X_train, mode='classification', feature_names=[f'feature_{i}' for i in range(X_train.shape[1])])\n",
    "\n",
    "# Choose an instance from the test set to explain\n",
    "instance_to_explain = X_test[0]\n",
    "\n",
    "# Get the model's prediction for the instance\n",
    "prediction = model.predict_proba(instance_to_explain.reshape(1, -1))[0]\n",
    "\n",
    "# Explain the prediction using LimeTabularExplainer\n",
    "explanation = explainer.explain_instance(instance_to_explain, model.predict_proba)\n",
    "\n",
    "# Print the results\n",
    "print(f\"Instance to explain: {instance_to_explain}\")\n",
    "print(f\"True class: {y_test[0]}\")\n",
    "print(f\"Model prediction: {prediction}\")\n",
    "print(\"\\nExplanation:\")\n",
    "for i, (feature, weight) in enumerate(explanation.as_list()):\n",
    "    print(f\"{i + 1}. {feature}: {weight}\")\n"
   ]
  },
  {
   "cell_type": "markdown",
   "id": "5a8607bc",
   "metadata": {},
   "source": [
    "# 4. GaussianNB"
   ]
  },
  {
   "cell_type": "code",
   "execution_count": null,
   "id": "aa0f7003",
   "metadata": {},
   "outputs": [],
   "source": []
  },
  {
   "cell_type": "code",
   "execution_count": null,
   "id": "a46f7f88",
   "metadata": {},
   "outputs": [],
   "source": [
    "from sklearn.naive_bayes import GaussianNB\n",
    "from sklearn.metrics import accuracy_score\n",
    "from sklearn.model_selection import train_test_split\n",
    "import pandas as pd\n",
    "\n",
    "# create a GaussianNB Naive Bayes classifier\n",
    "clf = GaussianNB()\n",
    "\n",
    "# train the classifier on the training data\n",
    "clf.fit(X_train, y_train)\n",
    "\n",
    "# make predictions on the testing data\n",
    "y_pred = clf.predict(X_test)\n",
    "\n",
    "# calculate the accuracy of the classifier\n",
    "accuracy = accuracy_score(y_test, y_pred)\n",
    "print(\"Accuracy:\", accuracy)"
   ]
  },
  {
   "cell_type": "code",
   "execution_count": null,
   "id": "218bc344",
   "metadata": {},
   "outputs": [],
   "source": [
    "from sklearn.metrics import precision_recall_fscore_support\n",
    "precision_recall_fscore_support(y_test, y_pred, average='weighted')"
   ]
  },
  {
   "cell_type": "code",
   "execution_count": null,
   "id": "d947b90a",
   "metadata": {},
   "outputs": [],
   "source": [
    "# Importing the confusion_matrix and accuracy_score class from the metrics module in sklearn\n",
    "from sklearn.metrics import confusion_matrix, accuracy_score\n",
    "y_pred = clf.predict(X_test) # calls a predict method from the classfier object to target variable of the X_test\n",
    "# creating a confussion matrix\n",
    "cm = confusion_matrix(y_test, y_pred)\n",
    "print(cm)\n",
    "# model score"
   ]
  },
  {
   "cell_type": "markdown",
   "id": "a826935d",
   "metadata": {},
   "source": [
    "# 5. SVM"
   ]
  },
  {
   "cell_type": "code",
   "execution_count": null,
   "id": "bcffb0b9",
   "metadata": {},
   "outputs": [],
   "source": [
    "# Importing the LogisticRegression class from the linear_model module in sklearn\n",
    "from sklearn import svm\n",
    "# create object of the above classifier\n",
    "clf = svm.SVC()\n",
    "clf.fit(X_train, y_train)"
   ]
  },
  {
   "cell_type": "code",
   "execution_count": null,
   "id": "71879f03",
   "metadata": {},
   "outputs": [],
   "source": [
    "# Importing the confusion_matrix and accuracy_score class from the metrics module in sklearn\n",
    "from sklearn.metrics import confusion_matrix, accuracy_score\n",
    "y_pred = clf.predict(X_test) # calls a predict method from the classfier object to target variable of the X_test\n",
    "# creating a confussion matrix\n",
    "cm = confusion_matrix(y_test, y_pred)\n",
    "print(cm)\n",
    "# model score\n",
    "accuracy_score(y_test, y_pred) "
   ]
  },
  {
   "cell_type": "code",
   "execution_count": null,
   "id": "a8783a23",
   "metadata": {},
   "outputs": [],
   "source": [
    "from sklearn.metrics import precision_recall_fscore_support\n",
    "precision_recall_fscore_support(y_test, y_pred, average='weighted')"
   ]
  },
  {
   "cell_type": "code",
   "execution_count": null,
   "id": "d4268844",
   "metadata": {},
   "outputs": [],
   "source": []
  }
 ],
 "metadata": {
  "kernelspec": {
   "display_name": "Python 3 (ipykernel)",
   "language": "python",
   "name": "python3"
  },
  "language_info": {
   "codemirror_mode": {
    "name": "ipython",
    "version": 3
   },
   "file_extension": ".py",
   "mimetype": "text/x-python",
   "name": "python",
   "nbconvert_exporter": "python",
   "pygments_lexer": "ipython3",
   "version": "3.11.2"
  }
 },
 "nbformat": 4,
 "nbformat_minor": 5
}
